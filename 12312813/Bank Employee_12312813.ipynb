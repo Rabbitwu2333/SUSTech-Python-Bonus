{
 "cells": [
  {
   "cell_type": "markdown",
   "id": "d9de3a74",
   "metadata": {},
   "source": [
    "# Bank Employee\n",
    "\n",
    "In this problem, you are asked to finish the class `Employee` which implements several kinds of functions for bank employee. Read the comment carefully and try to solve it.\n",
    "\n",
    "Besides, we prepare some test cases below and if you can pass them successfully, which means your output is same as the given output, you can earn 60% point of the problem. The left 40% will be further test.\n",
    "\n",
    "All of our test will be taken in this file and don't change the given files."
   ]
  },
  {
   "cell_type": "code",
   "execution_count": 359,
   "id": "6f36e5d4",
   "metadata": {
    "ExecuteTime": {
     "end_time": "2024-01-18T14:54:01.773403300Z",
     "start_time": "2024-01-18T14:54:01.736712800Z"
    }
   },
   "outputs": [],
   "source": [
    "\"\"\"\n",
    "Here you are given some useful packages which will be used below. Add or change as you like.\n",
    "\"\"\"\n",
    "import numpy as np\n",
    "import pandas as pd\n",
    "import math\n",
    "import time\n",
    "import os\n",
    "import shutil \n",
    "from datetime import datetime"
   ]
  },
  {
   "cell_type": "markdown",
   "id": "44dae7a4",
   "metadata": {},
   "source": [
    "## Pre-knowledge\n",
    "\n",
    "`user.csv` record all users' information. `ID` is default index. `Name` is the user's name. `Registration_time` is when the user register. `Level` is the level of the user, which is S, A, B or C. `code` is a random string for each user and you can use it to access detailed loan information for each user.\n",
    "\n",
    "`employee.csv` record all employee's information. `ID` is default index. `Name` is the employee's name. `Salary` is the employee's salary. `Level` is the level of the employee."
   ]
  },
  {
   "cell_type": "code",
   "execution_count": 360,
   "id": "c6b36d29",
   "metadata": {
    "ExecuteTime": {
     "end_time": "2024-01-18T14:54:01.807942700Z",
     "start_time": "2024-01-18T14:54:01.780481500Z"
    }
   },
   "outputs": [
    {
     "name": "stdout",
     "output_type": "stream",
     "text": [
      "Employee Jerry, level 10.\n",
      "Accessible Files: ['dn21q323csda.csv', 'dnksanf43cacdas.csv', 'employees.csv', 'enq3d3oind345sd.csv', 'f2313443mdsaoidj.csv', 'users.csv']\n",
      "Users Registered in January: ['David']\n",
      "Users with Low Credit: ['James', 'Tom']\n"
     ]
    }
   ],
   "source": [
    "import os\n",
    "import pandas as pd\n",
    "from datetime import datetime\n",
    "\n",
    "class Employee:\n",
    "    def __init__(self, name, salary, level):\n",
    "        self.name = name\n",
    "        self.__salary = salary\n",
    "        self.__level = level\n",
    "        emp_df = pd.read_csv('backup_files/employees.csv')\n",
    "        new_row = {'Name': name, 'Salary': int(salary), 'Level': level}\n",
    "        emp_df = pd.concat([emp_df, pd.DataFrame([new_row])], ignore_index=True)\n",
    "        emp_df.to_csv('backup_files/employees.csv', index=False)\n",
    "\n",
    "\n",
    "\n",
    "    def __str__(self):\n",
    "        return \"Employee {}, level {}.\".format(self.name, self.__level)\n",
    "\n",
    "    def accessible_data(self):\n",
    "        if self.__level > 5:\n",
    "            return sorted(os.listdir('backup_files'))\n",
    "        else:\n",
    "            user_df = pd.read_csv('backup_files/users.csv')\n",
    "            user_df = user_df[user_df['Level'] != 'S']\n",
    "            user_df = user_df['code'].tolist()\n",
    "            return sorted(['users.csv'] + user_df)\n",
    "\n",
    "\n",
    "    \n",
    "    def search_user_by_month(self, month):\n",
    "        try:\n",
    "            month_num = datetime.strptime(month, '%B').month\n",
    "        except ValueError:\n",
    "            try:\n",
    "                month_num = datetime.strptime(month, '%b').month\n",
    "            except ValueError:\n",
    "                return \"Invalid month! Please check again!\"\n",
    "    \n",
    "        month_num_str = str(month_num).zfill(2)\n",
    "        users_df = pd.read_csv('backup_files/users.csv')\n",
    "        registered_users = users_df[users_df['Registration_time'].str.contains('/' + month_num_str + '/')]\n",
    "        return registered_users.sort_values(by='Name')['Name'].tolist()\n",
    "\n",
    "\n",
    "    def search_warning_user(self):\n",
    "        accessible_files = self.accessible_data()\n",
    "        warning_ids = []\n",
    "\n",
    "        for file in accessible_files:\n",
    "            if file.endswith('.csv'):\n",
    "                df = pd.read_csv('backup_files/' + file)\n",
    "                if 'Credit' in df.columns:\n",
    "                    df['Credit'] = pd.to_numeric(df['Credit'], errors='coerce')\n",
    "                    filtered_ids = df[df['Credit'] < 100]['ID'].tolist()\n",
    "                    warning_ids.extend(filtered_ids)\n",
    "\n",
    "        users_df = pd.read_csv('backup_files/users.csv')\n",
    "        warning_users = users_df[users_df['ID'].isin(warning_ids)]\n",
    "        return warning_users['Name'].tolist()\n",
    "\n",
    "\n",
    "\n",
    "\n",
    "employee = Employee(name='Jerry', salary=3e5, level=10)\n",
    "print(employee)\n",
    "\n",
    "accessible_files = employee.accessible_data()\n",
    "print(\"Accessible Files:\", accessible_files)\n",
    "\n",
    "january_users = employee.search_user_by_month(\"Jan\")\n",
    "print(\"Users Registered in January:\", january_users)\n",
    "\n",
    "warning_users = employee.search_warning_user()\n",
    "print(\"Users with Low Credit:\", warning_users)\n"
   ]
  },
  {
   "cell_type": "markdown",
   "id": "ceff4ebc",
   "metadata": {},
   "source": [
    "## Test cases\n",
    "\n",
    "If you have finished the class, run the code below and check whether your output is correct."
   ]
  },
  {
   "cell_type": "code",
   "execution_count": 361,
   "id": "d4e2dec0",
   "metadata": {
    "ExecuteTime": {
     "end_time": "2024-01-18T14:54:01.809267200Z",
     "start_time": "2024-01-18T14:54:01.796951900Z"
    }
   },
   "outputs": [
    {
     "data": {
      "text/plain": "'Employee Tom, level 3.'"
     },
     "execution_count": 361,
     "metadata": {},
     "output_type": "execute_result"
    }
   ],
   "source": [
    "employee_1 = Employee(name=\"Tom\", salary=5e4, level=3)\n",
    "str(employee_1)"
   ]
  },
  {
   "cell_type": "code",
   "execution_count": 362,
   "id": "69f88309",
   "metadata": {
    "ExecuteTime": {
     "end_time": "2024-01-18T14:54:01.853661200Z",
     "start_time": "2024-01-18T14:54:01.804935100Z"
    }
   },
   "outputs": [
    {
     "data": {
      "text/plain": "['dn21q323csda.csv',\n 'dnksanf43cacdas.csv',\n 'employees.csv',\n 'enq3d3oind345sd.csv',\n 'f2313443mdsaoidj.csv',\n 'users.csv']"
     },
     "execution_count": 362,
     "metadata": {},
     "output_type": "execute_result"
    }
   ],
   "source": [
    "manager = Employee(name='Jerry', salary=3e5, level=10)\n",
    "manager.accessible_data()"
   ]
  },
  {
   "cell_type": "code",
   "execution_count": 363,
   "id": "0412ec11",
   "metadata": {
    "ExecuteTime": {
     "end_time": "2024-01-18T14:54:01.886983300Z",
     "start_time": "2024-01-18T14:54:01.812797100Z"
    }
   },
   "outputs": [
    {
     "data": {
      "text/plain": "['James', 'Tom']"
     },
     "execution_count": 363,
     "metadata": {},
     "output_type": "execute_result"
    }
   ],
   "source": [
    "employee_1.search_user_by_month(\"Dec\")"
   ]
  },
  {
   "cell_type": "markdown",
   "source": [],
   "metadata": {
    "collapsed": false
   },
   "id": "bbe0dde21fe52e99"
  },
  {
   "cell_type": "code",
   "execution_count": 364,
   "id": "47d14e81",
   "metadata": {
    "ExecuteTime": {
     "end_time": "2024-01-18T14:54:01.887997500Z",
     "start_time": "2024-01-18T14:54:01.842070900Z"
    }
   },
   "outputs": [
    {
     "data": {
      "text/plain": "'Invalid month! Please check again!'"
     },
     "execution_count": 364,
     "metadata": {},
     "output_type": "execute_result"
    }
   ],
   "source": [
    "manager.search_user_by_month('Sept')"
   ]
  },
  {
   "cell_type": "code",
   "execution_count": 365,
   "id": "81a61855",
   "metadata": {
    "ExecuteTime": {
     "end_time": "2024-01-18T14:54:01.890998100Z",
     "start_time": "2024-01-18T14:54:01.855661700Z"
    }
   },
   "outputs": [
    {
     "data": {
      "text/plain": "[]"
     },
     "execution_count": 365,
     "metadata": {},
     "output_type": "execute_result"
    }
   ],
   "source": [
    "employee_1.search_warning_user()"
   ]
  },
  {
   "cell_type": "code",
   "execution_count": 366,
   "id": "13f7db8e",
   "metadata": {
    "ExecuteTime": {
     "end_time": "2024-01-18T14:54:01.969501100Z",
     "start_time": "2024-01-18T14:54:01.892370900Z"
    }
   },
   "outputs": [
    {
     "data": {
      "text/plain": "['James', 'Tom']"
     },
     "execution_count": 366,
     "metadata": {},
     "output_type": "execute_result"
    }
   ],
   "source": [
    "manager.search_warning_user()"
   ]
  },
  {
   "cell_type": "code",
   "execution_count": 367,
   "id": "73699a6a",
   "metadata": {
    "ExecuteTime": {
     "end_time": "2024-01-18T14:54:01.999789300Z",
     "start_time": "2024-01-18T14:54:01.972701400Z"
    }
   },
   "outputs": [],
   "source": [
    "\"\"\"\n",
    "Add a new user and test.\n",
    "\"\"\"\n",
    "f = open('./bank_data/users.csv', 'a')\n",
    "f.write(\"4,test_user_01,2023/01/03,S,dsand232n21n3\\n\")\n",
    "f.close()\n",
    "f = open('./bank_data/dsand232n21n3.csv', 'w')\n",
    "f.write(\"ID,Amount,Loan_date,Repay_date,Credit\\n\")\n",
    "f.close()"
   ]
  },
  {
   "cell_type": "code",
   "execution_count": 368,
   "id": "b55cee7c",
   "metadata": {
    "ExecuteTime": {
     "end_time": "2024-01-18T14:54:02.018158800Z",
     "start_time": "2024-01-18T14:54:02.001886400Z"
    }
   },
   "outputs": [
    {
     "data": {
      "text/plain": "['dn21q323csda.csv',\n 'dnksanf43cacdas.csv',\n 'employees.csv',\n 'enq3d3oind345sd.csv',\n 'f2313443mdsaoidj.csv',\n 'users.csv']"
     },
     "execution_count": 368,
     "metadata": {},
     "output_type": "execute_result"
    }
   ],
   "source": [
    "manager.accessible_data()"
   ]
  },
  {
   "cell_type": "markdown",
   "id": "4844bcb3",
   "metadata": {},
   "source": [
    "## Further test cases\n",
    "\n",
    "40% of point"
   ]
  },
  {
   "cell_type": "code",
   "execution_count": 369,
   "id": "3a7534cd",
   "metadata": {
    "ExecuteTime": {
     "end_time": "2024-01-18T14:54:02.040791300Z",
     "start_time": "2024-01-18T14:54:02.021173500Z"
    }
   },
   "outputs": [
    {
     "data": {
      "text/plain": "'Employee testmana, level 16.'"
     },
     "execution_count": 369,
     "metadata": {},
     "output_type": "execute_result"
    }
   ],
   "source": [
    "emp_test = Employee(name=\"testemp\", salary=5e4, level=1)\n",
    "manager_test = Employee(name=\"testmana\", salary=5e6, level=16)\n",
    "\n",
    "str(manager_test)"
   ]
  },
  {
   "cell_type": "code",
   "execution_count": 370,
   "id": "f2a4bcca",
   "metadata": {
    "ExecuteTime": {
     "end_time": "2024-01-18T14:54:02.060418500Z",
     "start_time": "2024-01-18T14:54:02.036468500Z"
    }
   },
   "outputs": [],
   "source": [
    "f = open('./bank_data/users.csv', 'a')\n",
    "f.write(\"5,test_user_02,2022/12/03,S,gwegngewing293ner\\n\")\n",
    "f.close()\n",
    "f = open('./bank_data/gwegngewing293ner.csv', 'w')\n",
    "f.write(\"ID,Amount,Loan_date,Repay_date,Credit\\n\")\n",
    "f.write(\"0,10000,2022/10/10,2023/01/01,89\\n\")\n",
    "f.write(\"0,13430,2022/12/10,2023/01/03,100\\n\")\n",
    "f.close()"
   ]
  },
  {
   "cell_type": "code",
   "execution_count": 371,
   "id": "e925e69e",
   "metadata": {
    "ExecuteTime": {
     "end_time": "2024-01-18T14:54:02.062434400Z",
     "start_time": "2024-01-18T14:54:02.040791300Z"
    }
   },
   "outputs": [
    {
     "data": {
      "text/plain": "['James', 'Tom']"
     },
     "execution_count": 371,
     "metadata": {},
     "output_type": "execute_result"
    }
   ],
   "source": [
    "emp_test.search_user_by_month(\"DEc\")"
   ]
  },
  {
   "cell_type": "code",
   "execution_count": 372,
   "id": "a2ef373a",
   "metadata": {
    "ExecuteTime": {
     "end_time": "2024-01-18T14:54:02.062434400Z",
     "start_time": "2024-01-18T14:54:02.047851700Z"
    }
   },
   "outputs": [
    {
     "data": {
      "text/plain": "['James', 'Tom']"
     },
     "execution_count": 372,
     "metadata": {},
     "output_type": "execute_result"
    }
   ],
   "source": [
    "manager_test.search_user_by_month(\"Dec\")"
   ]
  },
  {
   "cell_type": "code",
   "execution_count": 373,
   "id": "ccffd98a",
   "metadata": {
    "ExecuteTime": {
     "end_time": "2024-01-18T14:54:02.124482900Z",
     "start_time": "2024-01-18T14:54:02.064448300Z"
    }
   },
   "outputs": [
    {
     "data": {
      "text/plain": "['dn21q323csda', 'enq3d3oind345sd', 'f2313443mdsaoidj', 'users.csv']"
     },
     "execution_count": 373,
     "metadata": {},
     "output_type": "execute_result"
    }
   ],
   "source": [
    "emp_test.accessible_data()"
   ]
  },
  {
   "cell_type": "code",
   "execution_count": 374,
   "id": "dab14671",
   "metadata": {
    "ExecuteTime": {
     "end_time": "2024-01-18T14:54:02.125513700Z",
     "start_time": "2024-01-18T14:54:02.072008600Z"
    }
   },
   "outputs": [
    {
     "data": {
      "text/plain": "[]"
     },
     "execution_count": 374,
     "metadata": {},
     "output_type": "execute_result"
    }
   ],
   "source": [
    "emp_test.search_warning_user()"
   ]
  },
  {
   "cell_type": "code",
   "execution_count": 375,
   "id": "ca6f975f",
   "metadata": {
    "ExecuteTime": {
     "end_time": "2024-01-18T14:54:02.128590400Z",
     "start_time": "2024-01-18T14:54:02.090422700Z"
    }
   },
   "outputs": [
    {
     "data": {
      "text/plain": "['James', 'Tom']"
     },
     "execution_count": 375,
     "metadata": {},
     "output_type": "execute_result"
    }
   ],
   "source": [
    "manager_test.search_warning_user()"
   ]
  },
  {
   "cell_type": "markdown",
   "id": "36d613e3",
   "metadata": {},
   "source": [
    "## Reset cell\n",
    "\n",
    "If you want to delete new generated files and reset all files into the original state, run me."
   ]
  },
  {
   "cell_type": "code",
   "execution_count": 376,
   "id": "f5f19d3e",
   "metadata": {
    "ExecuteTime": {
     "end_time": "2024-01-18T14:54:02.179058500Z",
     "start_time": "2024-01-18T14:54:02.130684100Z"
    }
   },
   "outputs": [
    {
     "data": {
      "text/plain": "'./bank_data'"
     },
     "execution_count": 376,
     "metadata": {},
     "output_type": "execute_result"
    }
   ],
   "source": [
    "import os\n",
    "import shutil\n",
    "shutil.rmtree(\"./bank_data/\")\n",
    "shutil.copytree('./backup_files', './bank_data')"
   ]
  },
  {
   "cell_type": "code",
   "execution_count": 376,
   "id": "b9bff508",
   "metadata": {
    "ExecuteTime": {
     "end_time": "2024-01-18T14:54:02.232793100Z",
     "start_time": "2024-01-18T14:54:02.180953800Z"
    }
   },
   "outputs": [],
   "source": []
  }
 ],
 "metadata": {
  "kernelspec": {
   "name": "python3",
   "language": "python",
   "display_name": "Python 3 (ipykernel)"
  },
  "language_info": {
   "codemirror_mode": {
    "name": "ipython",
    "version": 3
   },
   "file_extension": ".py",
   "mimetype": "text/x-python",
   "name": "python",
   "nbconvert_exporter": "python",
   "pygments_lexer": "ipython3",
   "version": "3.9.7"
  }
 },
 "nbformat": 4,
 "nbformat_minor": 5
}
